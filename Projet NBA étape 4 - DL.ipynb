{
 "cells": [
  {
   "cell_type": "code",
   "execution_count": 1,
   "id": "97b08029",
   "metadata": {},
   "outputs": [],
   "source": [
    "# importer les différents dictionnaires python\n",
    "\n",
    "import os\n",
    "import pandas as pd\n",
    "import numpy as np\n",
    "import tensorflow as tf\n",
    "import joblib\n",
    "from sklearn.model_selection import train_test_split\n",
    "from sklearn import preprocessing\n",
    "from tensorflow.keras.models import Model\n",
    "from tensorflow.keras.utils import to_categorical\n",
    "from tensorflow.keras.layers import Input, Dense, Activation, Dropout\n",
    "from tensorflow.keras import callbacks"
   ]
  },
  {
   "cell_type": "code",
   "execution_count": 2,
   "id": "717d4c4f",
   "metadata": {},
   "outputs": [],
   "source": [
    "os.chdir(\"C:/Users/antho/Projet_NBA\")\n",
    "df = pd.read_pickle('Nettoyage_données_NBA.pkl')"
   ]
  },
  {
   "cell_type": "code",
   "execution_count": 3,
   "id": "62a4a31a",
   "metadata": {},
   "outputs": [],
   "source": [
    "df.drop('zone_pct', axis = 1, inplace = True)"
   ]
  },
  {
   "cell_type": "code",
   "execution_count": 4,
   "id": "4ff22f39",
   "metadata": {},
   "outputs": [],
   "source": [
    "df = pd.get_dummies(data = df)"
   ]
  },
  {
   "cell_type": "code",
   "execution_count": 5,
   "id": "ead3117a",
   "metadata": {},
   "outputs": [],
   "source": [
    "# séparation des données en features et target\n",
    "\n",
    "pd.set_option('display.max_columns', None)\n",
    "target = df['shot_made_flag']\n",
    "features = df.drop('shot_made_flag', axis = 1)"
   ]
  },
  {
   "cell_type": "code",
   "execution_count": 6,
   "id": "42b24d4c",
   "metadata": {},
   "outputs": [],
   "source": [
    "# séparation en un ensemble d'entraînement et un ensemble de test\n",
    "\n",
    "x_train,x_test,y_train,y_test = train_test_split(features,target, test_size = 0.2, random_state = np.random)"
   ]
  },
  {
   "cell_type": "code",
   "execution_count": 7,
   "id": "81b80f2a",
   "metadata": {},
   "outputs": [],
   "source": [
    "# standardisation des données (x_train et x_test)\n",
    "\n",
    "scaler = preprocessing.StandardScaler().fit(x_train)\n",
    "\n",
    "x_train_scaled = scaler.transform(x_train)\n",
    "x_test_scaled = scaler.transform(x_test)"
   ]
  },
  {
   "cell_type": "code",
   "execution_count": 8,
   "id": "e96e8d9a",
   "metadata": {},
   "outputs": [],
   "source": [
    "y_train = to_categorical(y_train, dtype = 'int')\n",
    "y_test = to_categorical(y_test, dtype = 'int')"
   ]
  },
  {
   "cell_type": "code",
   "execution_count": 14,
   "id": "7a4ef456",
   "metadata": {},
   "outputs": [],
   "source": [
    "# 1er modèle"
   ]
  },
  {
   "cell_type": "code",
   "execution_count": 14,
   "id": "b0fa77d1",
   "metadata": {},
   "outputs": [
    {
     "name": "stdout",
     "output_type": "stream",
     "text": [
      "Model: \"model\"\n",
      "_________________________________________________________________\n",
      " Layer (type)                Output Shape              Param #   \n",
      "=================================================================\n",
      " input_1 (InputLayer)        [(None, 82)]              0         \n",
      "                                                                 \n",
      " dense (Dense)               (None, 320)               26560     \n",
      "                                                                 \n",
      " dropout (Dropout)           (None, 320)               0         \n",
      "                                                                 \n",
      " dense_1 (Dense)             (None, 160)               51360     \n",
      "                                                                 \n",
      " dense_2 (Dense)             (None, 2)                 322       \n",
      "                                                                 \n",
      "=================================================================\n",
      "Total params: 78,242\n",
      "Trainable params: 78,242\n",
      "Non-trainable params: 0\n",
      "_________________________________________________________________\n"
     ]
    }
   ],
   "source": [
    "model.summary()"
   ]
  },
  {
   "cell_type": "code",
   "execution_count": 9,
   "id": "d6b4e7f3",
   "metadata": {},
   "outputs": [
    {
     "name": "stdout",
     "output_type": "stream",
     "text": [
      "Epoch 1/20\n",
      "664/664 [==============================] - 12s 14ms/step - loss: 0.6305 - accuracy: 0.6444 - val_loss: 0.6225 - val_accuracy: 0.6493 - lr: 0.0010\n",
      "Epoch 2/20\n",
      "664/664 [==============================] - 9s 13ms/step - loss: 0.6222 - accuracy: 0.6508 - val_loss: 0.6200 - val_accuracy: 0.6526 - lr: 0.0010\n",
      "Epoch 3/20\n",
      "664/664 [==============================] - 9s 13ms/step - loss: 0.6198 - accuracy: 0.6538 - val_loss: 0.6188 - val_accuracy: 0.6526 - lr: 0.0010\n",
      "Epoch 4/20\n",
      "664/664 [==============================] - 8s 13ms/step - loss: 0.6182 - accuracy: 0.6546 - val_loss: 0.6177 - val_accuracy: 0.6540 - lr: 0.0010\n",
      "Epoch 5/20\n",
      "664/664 [==============================] - 8s 13ms/step - loss: 0.6171 - accuracy: 0.6555 - val_loss: 0.6166 - val_accuracy: 0.6538 - lr: 0.0010\n",
      "Epoch 6/20\n",
      "664/664 [==============================] - 8s 13ms/step - loss: 0.6159 - accuracy: 0.6566 - val_loss: 0.6168 - val_accuracy: 0.6531 - lr: 0.0010\n",
      "Epoch 7/20\n",
      "664/664 [==============================] - 8s 13ms/step - loss: 0.6157 - accuracy: 0.6569 - val_loss: 0.6159 - val_accuracy: 0.6555 - lr: 0.0010\n",
      "Epoch 8/20\n",
      "664/664 [==============================] - 8s 13ms/step - loss: 0.6148 - accuracy: 0.6584 - val_loss: 0.6152 - val_accuracy: 0.6558 - lr: 0.0010\n",
      "Epoch 9/20\n",
      "664/664 [==============================] - 9s 13ms/step - loss: 0.6138 - accuracy: 0.6582 - val_loss: 0.6152 - val_accuracy: 0.6550 - lr: 0.0010\n",
      "Epoch 10/20\n",
      "664/664 [==============================] - 9s 13ms/step - loss: 0.6132 - accuracy: 0.6594 - val_loss: 0.6148 - val_accuracy: 0.6560 - lr: 0.0010\n",
      "Epoch 11/20\n",
      "664/664 [==============================] - 8s 13ms/step - loss: 0.6126 - accuracy: 0.6597 - val_loss: 0.6141 - val_accuracy: 0.6580 - lr: 0.0010\n",
      "Epoch 12/20\n",
      "664/664 [==============================] - 8s 13ms/step - loss: 0.6122 - accuracy: 0.6597 - val_loss: 0.6133 - val_accuracy: 0.6573 - lr: 0.0010\n",
      "Epoch 13/20\n",
      "664/664 [==============================] - 8s 13ms/step - loss: 0.6115 - accuracy: 0.6600 - val_loss: 0.6128 - val_accuracy: 0.6582 - lr: 0.0010\n",
      "Epoch 14/20\n",
      "664/664 [==============================] - 8s 13ms/step - loss: 0.6112 - accuracy: 0.6608 - val_loss: 0.6126 - val_accuracy: 0.6584 - lr: 0.0010\n",
      "Epoch 15/20\n",
      "664/664 [==============================] - 8s 13ms/step - loss: 0.6105 - accuracy: 0.6622 - val_loss: 0.6131 - val_accuracy: 0.6578 - lr: 0.0010\n",
      "Epoch 16/20\n",
      "664/664 [==============================] - 8s 13ms/step - loss: 0.6102 - accuracy: 0.6614 - val_loss: 0.6137 - val_accuracy: 0.6590 - lr: 0.0010\n",
      "Epoch 17/20\n",
      "660/664 [============================>.] - ETA: 0s - loss: 0.6101 - accuracy: 0.6627\n",
      "Epoch 17: ReduceLROnPlateau reducing learning rate to 0.00010000000474974513.\n",
      "664/664 [==============================] - 8s 13ms/step - loss: 0.6101 - accuracy: 0.6627 - val_loss: 0.6130 - val_accuracy: 0.6593 - lr: 0.0010\n",
      "Epoch 18/20\n",
      "664/664 [==============================] - 8s 13ms/step - loss: 0.6061 - accuracy: 0.6652 - val_loss: 0.6111 - val_accuracy: 0.6596 - lr: 1.0000e-04\n",
      "Epoch 19/20\n",
      "664/664 [==============================] - 9s 13ms/step - loss: 0.6054 - accuracy: 0.6656 - val_loss: 0.6107 - val_accuracy: 0.6592 - lr: 1.0000e-04\n",
      "Epoch 20/20\n",
      "664/664 [==============================] - 9s 13ms/step - loss: 0.6051 - accuracy: 0.6660 - val_loss: 0.6107 - val_accuracy: 0.6599 - lr: 1.0000e-04\n",
      "Keras weights file (<HDF5 file \"variables.h5\" (mode r+)>) saving:\n",
      "...layers\\dense\n",
      "......vars\n",
      ".........0\n",
      ".........1\n",
      "...layers\\dense_1\n",
      "......vars\n",
      ".........0\n",
      ".........1\n",
      "...layers\\dense_2\n",
      "......vars\n",
      ".........0\n",
      ".........1\n",
      "...layers\\dropout\n",
      "......vars\n",
      "...layers\\dropout_1\n",
      "......vars\n",
      "...layers\\input_layer\n",
      "......vars\n",
      "...metrics\\mean\n",
      "......vars\n",
      ".........0\n",
      ".........1\n",
      "...metrics\\mean_metric_wrapper\n",
      "......vars\n",
      ".........0\n",
      ".........1\n",
      "...optimizer\n",
      "......vars\n",
      ".........0\n",
      ".........1\n",
      ".........10\n",
      ".........11\n",
      ".........12\n",
      ".........2\n",
      ".........3\n",
      ".........4\n",
      ".........5\n",
      ".........6\n",
      ".........7\n",
      ".........8\n",
      ".........9\n",
      "...vars\n",
      "Keras model archive saving:\n",
      "File Name                                             Modified             Size\n",
      "config.json                                    2023-03-17 08:49:20         2537\n",
      "metadata.json                                  2023-03-17 08:49:20           64\n",
      "variables.h5                                   2023-03-17 08:49:20       962696\n"
     ]
    },
    {
     "data": {
      "text/plain": [
       "['my_model_Deep_Learning_RNN.pkl']"
      ]
     },
     "execution_count": 9,
     "metadata": {},
     "output_type": "execute_result"
    }
   ],
   "source": [
    "#architecture du modèle\n",
    "import matplotlib.pyplot as plt\n",
    "\n",
    "input_model = Input(shape = x_train_scaled.shape[1])\n",
    "first_layer = Dense(units = 320, activation = 'relu')\n",
    "second_layer= Dropout(rate = 0.2)\n",
    "third_layer = Dense(units = 160, activation = 'relu')\n",
    "fourth_layer= Dropout(rate = 0.2)\n",
    "fifth_layer = Dense(units = 2, activation = 'softmax')\n",
    "\n",
    "x = first_layer(input_model)\n",
    "x = second_layer(x)\n",
    "x = third_layer(x)\n",
    "x = fourth_layer(x)\n",
    "output_model = fifth_layer(x)\n",
    "model = Model(inputs = input_model, outputs = output_model)\n",
    "\n",
    "# callbacks\n",
    "early_stopping = callbacks.EarlyStopping(monitor = 'val_loss', verbose = 1, patience = 5,\n",
    "                                             mode = 'min', restore_best_weights = True)\n",
    "lr_plateau = callbacks.ReduceLROnPlateau(monitor = 'val_loss', factor = 0.1, patience = 3, mode = 'min', verbose = 2)\n",
    "\n",
    "#compilation du modèle\n",
    "model.compile(optimizer = 'adam', loss = 'categorical_crossentropy', metrics = ['accuracy'])\n",
    "\n",
    "#entraînement du modèle\n",
    "history = model.fit(x_train_scaled, y_train, batch_size = 300, epochs = 20, validation_split = 0.2,\n",
    "                        validation_data = (x_test_scaled, y_test), callbacks = [early_stopping,lr_plateau])\n",
    "joblib.dump(model, 'my_model_Deep_Learning_RNN.pkl')"
   ]
  },
  {
   "cell_type": "code",
   "execution_count": 10,
   "id": "84ee8964",
   "metadata": {},
   "outputs": [],
   "source": [
    "train_acc = history.history['accuracy']\n",
    "val_acc = history.history['val_accuracy']\n",
    "train_loss = history.history['loss']\n",
    "val_loss = history.history['val_loss']"
   ]
  },
  {
   "cell_type": "code",
   "execution_count": 11,
   "id": "5995a5c2",
   "metadata": {},
   "outputs": [
    {
     "data": {
      "image/png": "[encoded data removed]",
      "text/plain": [
       "<Figure size 1080x360 with 2 Axes>"
      ]
     },
     "metadata": {
      "needs_background": "light"
     },
     "output_type": "display_data"
    }
   ],
   "source": [
    "import matplotlib.pyplot as plt\n",
    "plt.figure(figsize=(15,5))\n",
    "plt.subplot(121)\n",
    "plt.plot(np.arange(1,21),train_acc, label = 'train_accuracy')\n",
    "plt.plot(np.arange(1,21),val_acc, label = 'validation_accuracy')\n",
    "plt.xlabel('Epochs')\n",
    "plt.ylabel('Accuracy')\n",
    "plt.legend();\n",
    "\n",
    "plt.subplot(122)\n",
    "plt.plot(np.arange(1,21),train_loss, label = 'train_loss')\n",
    "plt.plot(np.arange(1,21),val_loss, label = 'validation_loss')\n",
    "plt.xlabel('Epochs')\n",
    "plt.ylabel('Loss')\n",
    "plt.legend();"
   ]
  },
  {
   "cell_type": "code",
   "execution_count": 12,
   "id": "ce1afd16",
   "metadata": {},
   "outputs": [
    {
     "name": "stdout",
     "output_type": "stream",
     "text": [
      "1555/1555 [==============================] - 6s 4ms/step\n",
      "[[20213  5957]\n",
      " [10966 12616]]\n"
     ]
    }
   ],
   "source": [
    "y_prob = model.predict(x_test_scaled)\n",
    "y_pred_class = tf.argmax(y_prob, axis = 1).numpy()\n",
    "y_test_class = y_test.argmax(axis = 1)\n",
    "\n",
    "from sklearn.metrics import accuracy_score\n",
    "from sklearn.metrics import confusion_matrix\n",
    "\n",
    "score_rnn = accuracy_score(y_test_class,y_pred_class)\n",
    "np.save('score_Deep_Learning_RNN',score_rnn)\n",
    "print(confusion_matrix(y_test_class,y_pred_class))"
   ]
  },
  {
   "cell_type": "code",
   "execution_count": 14,
   "id": "9351526b",
   "metadata": {},
   "outputs": [
    {
     "data": {
      "image/png": "[encoded data removed]",
      "text/plain": [
       "<Figure size 432x288 with 2 Axes>"
      ]
     },
     "metadata": {
      "needs_background": "light"
     },
     "output_type": "display_data"
    }
   ],
   "source": [
    "#matrice de confusion colorée\n",
    "from sklearn.metrics import confusion_matrix\n",
    "import itertools\n",
    "cnf_matrix = confusion_matrix(y_test_class,y_pred_class)\n",
    "\n",
    "classes = range(0,2)\n",
    "\n",
    "plt.figure()\n",
    "\n",
    "plt.imshow(cnf_matrix, interpolation='nearest',cmap='Blues')\n",
    "plt.colorbar()\n",
    "tick_marks = np.arange(len(classes))\n",
    "plt.xticks(tick_marks, classes, size = 13)\n",
    "plt.yticks(tick_marks, classes, size = 13)\n",
    "\n",
    "for i, j in itertools.product(range(cnf_matrix.shape[0]), range(cnf_matrix.shape[1])):\n",
    "    plt.text(j, i, cnf_matrix[i, j],\n",
    "             horizontalalignment = \"center\",\n",
    "             fontdict = {'fontsize' : 15},\n",
    "             color = \"white\" if cnf_matrix[i, j] > ( cnf_matrix.max() / 2) else \"black\")\n",
    "\n",
    "plt.ylabel('Vrais labels', size = 13)\n",
    "plt.xlabel('Labels prédits', size = 13)\n",
    "plt.show()"
   ]
  },
  {
   "cell_type": "code",
   "execution_count": 23,
   "id": "57404e5a",
   "metadata": {},
   "outputs": [],
   "source": [
    "import keras_tuner as kt\n",
    "\n",
    "def model_builder(hp):\n",
    "    input_model = Input(shape = x_train_scaled.shape[1])\n",
    "    \n",
    "    # les variables à faire varier\n",
    "    hp.units_1 = hp.Int('units',min_value = 64, max_value = 512, step = 64)\n",
    "    hp.units_2 = hp.Int('units',min_value = 64, max_value = 512, step = 64)\n",
    "    hp_dropout = hp.Float('taux',min_value = 0.2, max_value = 0.6, step =0.2)\n",
    "    hp_activation_dense = hp.Choice( \"dense_activation\", values=[\"relu\", \"tanh\"])\n",
    "    \n",
    "    # les différentes couches\n",
    "    first_layer = Dense(units = hp.units_1, activation = hp_activation_dense)\n",
    "    second_layer= Dropout(rate = hp_dropout)\n",
    "    third_layer = Dense(units = hp.units_2, activation = hp_activation_dense)\n",
    "    fourth_layer= Dropout(rate = hp_dropout)\n",
    "    fifth_layer = Dense(units = 2, activation = 'sotfmax')\n",
    "    \n",
    "    x = first_layer(input_model)\n",
    "    x = second_layer(x)\n",
    "    x = third_layer(x)\n",
    "    x = fourth_layer(x)\n",
    "    output_model = fifth_layer(x)\n",
    "        \n",
    "    model = Model(inputs = input_model, outputs = output_model)\n",
    "\n",
    "    #callbacks\n",
    "    early_stopping = callbacks.EarlyStopping(monitor = 'val_loss', verbose = 1, patience = 5,\n",
    "                                         mode = 'min', restore_best_weights = True)\n",
    "    lr_plateau = callbacks.ReduceLROnPlateau(monitor = 'val_loss', factor = 0.1, patience = 2, mode = 'min', verbose = 2)\n",
    "\n",
    "    #compilation du modèle\n",
    "    hp.lr = hp.Choice('learning_rate', values = [1e-2, 1e-3, 1e-4])\n",
    "    model.compile(optimizer = tf.keras.optimizers.Adam(learning_rate = hp.lr),\n",
    "                  loss = 'categorical_crossentropy', metrics = ['accuracy'])\n",
    "\n",
    "    #entraînement du modèle\n",
    "    history = model.fit(x_train_scaled, y_train, batch_size = 200, epochs = 20, validation_split = 0.1,\n",
    "                    validation_data = (x_test_scaled, y_test), callbacks = [early_stopping,lr_plateau]) \n",
    "    \n",
    "    return model"
   ]
  },
  {
   "cell_type": "code",
   "execution_count": 24,
   "id": "a20660b2",
   "metadata": {},
   "outputs": [
    {
     "name": "stdout",
     "output_type": "stream",
     "text": [
      "Epoch 1/20\n",
      "996/996 [==============================] - 5s 4ms/step - loss: 0.6403 - accuracy: 0.6260 - val_loss: 0.6369 - val_accuracy: 0.6304 - lr: 0.0010\n",
      "Epoch 2/20\n",
      "996/996 [==============================] - 4s 4ms/step - loss: 0.6367 - accuracy: 0.6294 - val_loss: 0.6362 - val_accuracy: 0.6316 - lr: 0.0010\n",
      "Epoch 3/20\n",
      "996/996 [==============================] - 4s 4ms/step - loss: 0.6355 - accuracy: 0.6303 - val_loss: 0.6348 - val_accuracy: 0.6327 - lr: 0.0010\n",
      "Epoch 4/20\n",
      "996/996 [==============================] - 4s 4ms/step - loss: 0.6344 - accuracy: 0.6310 - val_loss: 0.6344 - val_accuracy: 0.6330 - lr: 0.0010\n",
      "Epoch 5/20\n",
      "996/996 [==============================] - 4s 4ms/step - loss: 0.6336 - accuracy: 0.6317 - val_loss: 0.6343 - val_accuracy: 0.6328 - lr: 0.0010\n",
      "Epoch 6/20\n",
      "996/996 [==============================] - 4s 4ms/step - loss: 0.6330 - accuracy: 0.6323 - val_loss: 0.6336 - val_accuracy: 0.6339 - lr: 0.0010\n",
      "Epoch 7/20\n",
      "996/996 [==============================] - 4s 4ms/step - loss: 0.6325 - accuracy: 0.6332 - val_loss: 0.6339 - val_accuracy: 0.6334 - lr: 0.0010\n",
      "Epoch 8/20\n",
      "996/996 [==============================] - 4s 4ms/step - loss: 0.6320 - accuracy: 0.6329 - val_loss: 0.6334 - val_accuracy: 0.6337 - lr: 0.0010\n",
      "Epoch 9/20\n",
      "996/996 [==============================] - 4s 4ms/step - loss: 0.6316 - accuracy: 0.6338 - val_loss: 0.6332 - val_accuracy: 0.6350 - lr: 0.0010\n",
      "Epoch 10/20\n",
      "996/996 [==============================] - 4s 4ms/step - loss: 0.6312 - accuracy: 0.6336 - val_loss: 0.6328 - val_accuracy: 0.6333 - lr: 0.0010\n",
      "Epoch 11/20\n",
      "996/996 [==============================] - 4s 4ms/step - loss: 0.6309 - accuracy: 0.6336 - val_loss: 0.6329 - val_accuracy: 0.6334 - lr: 0.0010\n",
      "Epoch 12/20\n",
      "985/996 [============================>.] - ETA: 0s - loss: 0.6306 - accuracy: 0.6342\n",
      "Epoch 12: ReduceLROnPlateau reducing learning rate to 0.00010000000474974513.\n",
      "996/996 [==============================] - 4s 4ms/step - loss: 0.6304 - accuracy: 0.6344 - val_loss: 0.6344 - val_accuracy: 0.6342 - lr: 0.0010\n",
      "Epoch 13/20\n",
      "996/996 [==============================] - 4s 4ms/step - loss: 0.6279 - accuracy: 0.6366 - val_loss: 0.6315 - val_accuracy: 0.6347 - lr: 1.0000e-04\n",
      "Epoch 14/20\n",
      "996/996 [==============================] - 4s 4ms/step - loss: 0.6271 - accuracy: 0.6372 - val_loss: 0.6315 - val_accuracy: 0.6350 - lr: 1.0000e-04\n",
      "Epoch 15/20\n",
      "989/996 [============================>.] - ETA: 0s - loss: 0.6269 - accuracy: 0.6372\n",
      "Epoch 15: ReduceLROnPlateau reducing learning rate to 1.0000000474974514e-05.\n",
      "996/996 [==============================] - 4s 4ms/step - loss: 0.6269 - accuracy: 0.6373 - val_loss: 0.6315 - val_accuracy: 0.6353 - lr: 1.0000e-04\n",
      "Epoch 16/20\n",
      "996/996 [==============================] - 4s 4ms/step - loss: 0.6264 - accuracy: 0.6383 - val_loss: 0.6315 - val_accuracy: 0.6352 - lr: 1.0000e-05\n",
      "Epoch 17/20\n",
      "989/996 [============================>.] - ETA: 0s - loss: 0.6263 - accuracy: 0.6384\n",
      "Epoch 17: ReduceLROnPlateau reducing learning rate to 1.0000000656873453e-06.\n",
      "996/996 [==============================] - 4s 4ms/step - loss: 0.6263 - accuracy: 0.6383 - val_loss: 0.6315 - val_accuracy: 0.6349 - lr: 1.0000e-05\n",
      "Epoch 18/20\n",
      "996/996 [==============================] - 4s 4ms/step - loss: 0.6263 - accuracy: 0.6384 - val_loss: 0.6315 - val_accuracy: 0.6349 - lr: 1.0000e-06\n",
      "Epoch 19/20\n",
      "986/996 [============================>.] - ETA: 0s - loss: 0.6262 - accuracy: 0.6386\n",
      "Epoch 19: ReduceLROnPlateau reducing learning rate to 1.0000001111620805e-07.\n",
      "996/996 [==============================] - 4s 4ms/step - loss: 0.6263 - accuracy: 0.6383 - val_loss: 0.6315 - val_accuracy: 0.6349 - lr: 1.0000e-06\n",
      "Epoch 20/20\n",
      "996/996 [==============================] - 4s 4ms/step - loss: 0.6263 - accuracy: 0.6383 - val_loss: 0.6315 - val_accuracy: 0.6350 - lr: 1.0000e-07\n"
     ]
    }
   ],
   "source": [
    "tuner = kt.Hyperband(model_builder,\n",
    "                     objective = 'val_accuracy', \n",
    "                     max_epochs = 20,\n",
    "                     factor = 4,\n",
    "                     directory = 'my_dir',\n",
    "                     project_name = 'hyper_tuning_DL_MSPy') "
   ]
  },
  {
   "cell_type": "code",
   "execution_count": null,
   "id": "bb31797f",
   "metadata": {},
   "outputs": [
    {
     "name": "stdout",
     "output_type": "stream",
     "text": [
      "Trial 14 Complete [00h 02m 45s]\n",
      "val_accuracy: 0.6348488330841064\n",
      "\n",
      "Best val_accuracy So Far: 0.6351704597473145\n",
      "Total elapsed time: 00h 30m 49s\n",
      "\n",
      "Search: Running Trial #15\n",
      "\n",
      "Value             |Best Value So Far |Hyperparameter\n",
      "64                |256               |units\n",
      "relu              |relu              |dense_activation\n",
      "7                 |3                 |tuner/epochs\n",
      "3                 |0                 |tuner/initial_epoch\n",
      "2                 |2                 |tuner/bracket\n",
      "1                 |0                 |tuner/round\n",
      "0004              |None              |tuner/trial_id\n",
      "\n",
      "Keras weights file (<HDF5 file \"variables.h5\" (mode r+)>) saving:\n",
      "...layers\\dense\n",
      "......vars\n",
      ".........0\n",
      ".........1\n",
      "...layers\\dense_1\n",
      "......vars\n",
      ".........0\n",
      ".........1\n",
      "...layers\\dense_2\n",
      "......vars\n",
      ".........0\n",
      ".........1\n",
      "...layers\\input_layer\n",
      "......vars\n",
      "...metrics\\mean\n",
      "......vars\n",
      ".........0\n",
      ".........1\n",
      "...metrics\\mean_metric_wrapper\n",
      "......vars\n",
      ".........0\n",
      ".........1\n",
      "...optimizer\n",
      "......vars\n",
      ".........0\n",
      ".........1\n",
      ".........10\n",
      ".........11\n",
      ".........12\n",
      ".........2\n",
      ".........3\n",
      ".........4\n",
      ".........5\n",
      ".........6\n",
      ".........7\n",
      ".........8\n",
      ".........9\n",
      "...vars\n",
      "Keras model archive saving:\n",
      "File Name                                             Modified             Size\n",
      "config.json                                    2023-02-15 07:34:06         2123\n",
      "metadata.json                                  2023-02-15 07:34:06           64\n",
      "variables.h5                                   2023-02-15 07:34:06       697632\n",
      "Keras model archive loading:\n",
      "File Name                                             Modified             Size\n",
      "config.json                                    2023-02-15 07:34:06         2123\n",
      "metadata.json                                  2023-02-15 07:34:06           64\n",
      "variables.h5                                   2023-02-15 07:34:06       697632\n",
      "Keras weights file (<HDF5 file \"variables.h5\" (mode r)>) loading:\n",
      "...layers\\dense\n",
      "......vars\n",
      ".........0\n",
      ".........1\n",
      "...layers\\dense_1\n",
      "......vars\n",
      ".........0\n",
      ".........1\n",
      "...layers\\dense_2\n",
      "......vars\n",
      ".........0\n",
      ".........1\n",
      "...layers\\input_layer\n",
      "......vars\n",
      "...metrics\\mean\n",
      "......vars\n",
      ".........0\n",
      ".........1\n",
      "...metrics\\mean_metric_wrapper\n",
      "......vars\n",
      ".........0\n",
      ".........1\n",
      "...optimizer\n",
      "......vars\n",
      ".........0\n",
      ".........1\n",
      ".........10\n",
      ".........11\n",
      ".........12\n",
      ".........2\n",
      ".........3\n",
      ".........4\n",
      ".........5\n",
      ".........6\n",
      ".........7\n",
      ".........8\n",
      ".........9\n",
      "...vars\n",
      "Epoch 1/20\n",
      "996/996 [==============================] - 6s 5ms/step - loss: 0.6404 - accuracy: 0.6251 - val_loss: 0.6366 - val_accuracy: 0.6305 - lr: 0.0010\n",
      "Epoch 2/20\n",
      "996/996 [==============================] - 7s 7ms/step - loss: 0.6366 - accuracy: 0.6289 - val_loss: 0.6353 - val_accuracy: 0.6324 - lr: 0.0010\n",
      "Epoch 3/20\n",
      "996/996 [==============================] - 7s 7ms/step - loss: 0.6353 - accuracy: 0.6306 - val_loss: 0.6349 - val_accuracy: 0.6314 - lr: 0.0010\n",
      "Epoch 4/20\n",
      "996/996 [==============================] - 7s 7ms/step - loss: 0.6341 - accuracy: 0.6315 - val_loss: 0.6366 - val_accuracy: 0.6309 - lr: 0.0010\n",
      "Epoch 5/20\n",
      "996/996 [==============================] - 7s 7ms/step - loss: 0.6340 - accuracy: 0.6315 - val_loss: 0.6343 - val_accuracy: 0.6341 - lr: 0.0010\n",
      "Epoch 6/20\n",
      "996/996 [==============================] - 7s 7ms/step - loss: 0.6329 - accuracy: 0.6326 - val_loss: 0.6342 - val_accuracy: 0.6336 - lr: 0.0010\n",
      "Epoch 7/20\n",
      "996/996 [==============================] - 6s 6ms/step - loss: 0.6322 - accuracy: 0.6326 - val_loss: 0.6336 - val_accuracy: 0.6338 - lr: 0.0010\n",
      "Epoch 8/20\n",
      "531/996 [==============>...............] - ETA: 2s - loss: 0.6311 - accuracy: 0.6344"
     ]
    }
   ],
   "source": [
    "\n",
    "tuner.search(x_train_scaled, y_train, epochs=20, steps_per_epoch=20, validation_data = (x_test_scaled,y_test),\n",
    "             verbose = 1, validation_steps=3, callbacks = [early_stopping,lr_plateau])\n",
    "\n",
    "\n"
   ]
  },
  {
   "cell_type": "code",
   "execution_count": 16,
   "id": "180555c5",
   "metadata": {},
   "outputs": [
    {
     "name": "stdout",
     "output_type": "stream",
     "text": [
      "\n",
      "The hyperparameter search is complete.\n",
      " The optimal number of units in the first densely-connected\n",
      "layer is 320.\n",
      " The optimal learning rate for the optimizer is 0.001. \n",
      " \n",
      "L'activation optimale est relu.\n",
      "\n"
     ]
    }
   ],
   "source": [
    "best_hps = tuner.get_best_hyperparameters(num_trials = 1)[0]\n",
    "\n",
    "print(f\"\"\"\n",
    "The hyperparameter search is complete.\\n The optimal number of units in the first densely-connected\n",
    "layer is {best_hps.get('units')}.\\n The optimal learning rate for the optimizer is {best_hps.get('learning_rate')}. \\n \n",
    "L'activation optimale est {best_hps.get('dense_activation')}.\n",
    "\"\"\")"
   ]
  }
 ],
 "metadata": {
  "kernelspec": {
   "display_name": "Python 3 (ipykernel)",
   "language": "python",
   "name": "python3"
  },
  "language_info": {
   "codemirror_mode": {
    "name": "ipython",
    "version": 3
   },
   "file_extension": ".py",
   "mimetype": "text/x-python",
   "name": "python",
   "nbconvert_exporter": "python",
   "pygments_lexer": "ipython3",
   "version": "3.9.12"
  }
 },
 "nbformat": 4,
 "nbformat_minor": 5
}
